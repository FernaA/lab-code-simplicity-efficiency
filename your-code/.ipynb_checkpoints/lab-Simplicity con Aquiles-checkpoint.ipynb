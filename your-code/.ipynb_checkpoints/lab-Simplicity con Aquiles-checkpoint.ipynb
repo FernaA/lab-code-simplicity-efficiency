{
 "cells": [
  {
   "cell_type": "code",
   "execution_count": null,
   "metadata": {},
   "outputs": [],
   "source": [
    "numbers = {'zero': 0, 'one': 1, 'two': 2, 'three': 3, 'four': 4, 'five': 5}\n",
    "results = {-5:'minus five', -4:'minus four', -3:'minus three', -2:'minus two', -1:'minus one', 0:'zero', 1:'one', 2:'two', 3:'three', 4:'four', 5:'five', 6:'six', 7:'seven', 8:'eight', 9:'nine', 10:'ten'}\n",
    "\n",
    "def calcu():\n",
    "    print('Welcome to this calculator!')\n",
    "    print('It can add and subtract whole numbers from zero to five')\n",
    "    a = input('Please choose your first number (zero to five): ')\n",
    "    b = input ('What do you want to do? plus or minus: ')\n",
    "    c = input ('Please choose your second number (zero to five): ')\n",
    "   \n",
    "    if b =='plus':\n",
    "        result = numbers[a]+ numbers[c]\n",
    "    elif b == 'minus':\n",
    "        result = numbers[a]-numbers[b]\n",
    "    else:\n",
    "        result = print('Sorry, no can do. Please write a valid input.')\n",
    "    \n",
    "        return result\n",
    "\n"
   ]
  },
  {
   "cell_type": "code",
   "execution_count": null,
   "metadata": {},
   "outputs": [],
   "source": [
    "numbers = {'zero': 0, 'one': 1, 'two': 2, 'three': 3, 'four': 4, 'five': 5}\n",
    "results = {-5:'minus five', -4:'minus four', -3:'minus three', -2:'minus two', -1:'minus one', 0:'zero', 1:'one', 2:'two', 3:'three', 4:'four', 5:'five', 6:'six', 7:'seven', 8:'eight', 9:'nine', 10:'ten'}\n",
    "\n",
    "a = input('Please choose your first number (zero to five): ')\n",
    "b = input ('What do you want to do? plus or minus: ')\n",
    "c = input ('Please choose your second number (zero to five): ')\n",
    "\n",
    "if b == 'plus':\n",
    "    try: resultado = numbers[a] + numbers[c]\n",
    "    except: print('Sorry, no can do. Please write a valid input.')\n",
    "elif b == 'minus':\n",
    "    try: resultado = numbers[a] - numbers[c]\n",
    "    except: print('Sorry, no can do. Please write a valid input.')\n",
    "else: print('Sorry, no can do. Please write a valid input.')\n",
    "\n",
    "print(results[resultado])\n",
    "print(\"Thanks for using this calculator, goodbye :)\")"
   ]
  },
  {
   "cell_type": "code",
   "execution_count": null,
   "metadata": {},
   "outputs": [],
   "source": []
  },
  {
   "cell_type": "code",
   "execution_count": null,
   "metadata": {},
   "outputs": [],
   "source": []
  },
  {
   "cell_type": "code",
   "execution_count": null,
   "metadata": {},
   "outputs": [],
   "source": []
  }
 ],
 "metadata": {
  "kernelspec": {
   "display_name": "Python 3",
   "language": "python",
   "name": "python3"
  },
  "language_info": {
   "codemirror_mode": {
    "name": "ipython",
    "version": 3
   },
   "file_extension": ".py",
   "mimetype": "text/x-python",
   "name": "python",
   "nbconvert_exporter": "python",
   "pygments_lexer": "ipython3",
   "version": "3.7.3"
  }
 },
 "nbformat": 4,
 "nbformat_minor": 2
}
